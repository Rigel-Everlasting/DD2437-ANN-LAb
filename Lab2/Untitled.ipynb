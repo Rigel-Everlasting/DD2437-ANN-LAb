{
 "cells": [
  {
   "cell_type": "code",
   "execution_count": 1,
   "metadata": {},
   "outputs": [],
   "source": [
    "import numpy as np"
   ]
  },
  {
   "cell_type": "code",
   "execution_count": 2,
   "metadata": {},
   "outputs": [],
   "source": [
    "train = np.loadtxt(\"data_lab2/ballist.dat\")\n",
    "test = np.loadtxt(\"data_lab2/balltest.dat\")"
   ]
  },
  {
   "cell_type": "code",
   "execution_count": 18,
   "metadata": {},
   "outputs": [],
   "source": [
    "a = np.array([[1,2], [2,3], [3,4]])"
   ]
  },
  {
   "cell_type": "code",
   "execution_count": 19,
   "metadata": {},
   "outputs": [],
   "source": [
    "b = np.array([1,2,3,4,5])"
   ]
  },
  {
   "cell_type": "code",
   "execution_count": 59,
   "metadata": {},
   "outputs": [],
   "source": [
    "a = train[:, 2:]"
   ]
  },
  {
   "cell_type": "code",
   "execution_count": 61,
   "metadata": {},
   "outputs": [],
   "source": [
    "c = a[:, 1:]"
   ]
  },
  {
   "cell_type": "code",
   "execution_count": 65,
   "metadata": {},
   "outputs": [],
   "source": [
    "c = c.reshape((c.shape[0], ))"
   ]
  },
  {
   "cell_type": "code",
   "execution_count": 67,
   "metadata": {},
   "outputs": [
    {
     "data": {
      "text/plain": [
       "array([[0.896, 0.54 , 0.093, 0.26 ],\n",
       "       [0.279, 0.859, 0.566, 0.122],\n",
       "       [0.307, 0.403, 0.133, 0.032],\n",
       "       [0.974, 0.546, 0.024, 0.273],\n",
       "       [0.069, 0.903, 0.175, 0.009],\n",
       "       [0.29 , 0.448, 0.159, 0.036],\n",
       "       [0.015, 0.085, 0.   , 0.   ],\n",
       "       [0.686, 0.507, 0.215, 0.183],\n",
       "       [0.277, 0.434, 0.144, 0.031],\n",
       "       [0.743, 0.705, 0.359, 0.386],\n",
       "       [0.433, 0.752, 0.552, 0.205],\n",
       "       [0.251, 0.154, 0.017, 0.003],\n",
       "       [0.661, 0.62 , 0.336, 0.262],\n",
       "       [0.096, 0.823, 0.202, 0.014],\n",
       "       [0.771, 0.403, 0.107, 0.13 ],\n",
       "       [0.992, 0.643, 0.011, 0.379],\n",
       "       [0.988, 0.763, 0.022, 0.533],\n",
       "       [0.007, 0.91 , 0.019, 0.   ],\n",
       "       [0.689, 0.805, 0.537, 0.464],\n",
       "       [0.228, 0.274, 0.05 , 0.009],\n",
       "       [0.894, 0.753, 0.186, 0.506],\n",
       "       [0.276, 0.1  , 0.008, 0.002],\n",
       "       [0.227, 0.482, 0.152, 0.026],\n",
       "       [0.542, 0.254, 0.064, 0.033],\n",
       "       [0.999, 0.673, 0.001, 0.415],\n",
       "       [0.53 , 0.572, 0.326, 0.164],\n",
       "       [0.073, 0.257, 0.015, 0.001],\n",
       "       [0.244, 0.41 , 0.116, 0.022],\n",
       "       [0.001, 0.718, 0.001, 0.   ],\n",
       "       [0.012, 0.912, 0.031, 0.   ],\n",
       "       [0.983, 0.251, 0.003, 0.058],\n",
       "       [0.815, 0.315, 0.054, 0.083],\n",
       "       [0.631, 0.261, 0.062, 0.044],\n",
       "       [0.629, 0.251, 0.058, 0.04 ],\n",
       "       [0.803, 0.466, 0.126, 0.181],\n",
       "       [0.062, 0.535, 0.055, 0.002],\n",
       "       [0.438, 0.25 , 0.061, 0.023],\n",
       "       [0.909, 0.499, 0.07 , 0.223],\n",
       "       [0.86 , 0.452, 0.087, 0.178],\n",
       "       [0.461, 0.702, 0.489, 0.198],\n",
       "       [0.714, 0.668, 0.349, 0.332],\n",
       "       [0.61 , 0.695, 0.454, 0.296],\n",
       "       [0.869, 0.467, 0.087, 0.192],\n",
       "       [0.366, 0.526, 0.253, 0.075],\n",
       "       [0.713, 0.967, 0.734, 0.694],\n",
       "       [0.765, 0.405, 0.11 , 0.131],\n",
       "       [0.89 , 0.472, 0.075, 0.198],\n",
       "       [0.216, 0.462, 0.134, 0.022],\n",
       "       [0.039, 0.491, 0.03 , 0.001],\n",
       "       [0.343, 0.566, 0.282, 0.077],\n",
       "       [0.264, 0.057, 0.002, 0.   ],\n",
       "       [0.815, 0.898, 0.444, 0.679],\n",
       "       [0.038, 0.704, 0.059, 0.002],\n",
       "       [0.483, 0.204, 0.041, 0.018],\n",
       "       [0.185, 0.184, 0.019, 0.003],\n",
       "       [0.972, 0.162, 0.002, 0.024],\n",
       "       [0.239, 0.828, 0.467, 0.084],\n",
       "       [0.53 , 0.192, 0.037, 0.018],\n",
       "       [0.495, 0.672, 0.451, 0.204],\n",
       "       [0.979, 0.474, 0.015, 0.206],\n",
       "       [0.736, 0.864, 0.55 , 0.573],\n",
       "       [0.205, 0.38 , 0.087, 0.013],\n",
       "       [0.827, 0.623, 0.201, 0.331],\n",
       "       [0.867, 0.857, 0.298, 0.645],\n",
       "       [0.232, 0.661, 0.29 , 0.051],\n",
       "       [0.605, 0.585, 0.324, 0.208],\n",
       "       [0.045, 0.55 , 0.043, 0.001],\n",
       "       [0.126, 0.366, 0.051, 0.005],\n",
       "       [0.135, 0.364, 0.054, 0.005],\n",
       "       [0.92 , 0.362, 0.033, 0.118],\n",
       "       [0.724, 0.843, 0.541, 0.536],\n",
       "       [0.956, 0.945, 0.122, 0.816],\n",
       "       [0.784, 0.804, 0.406, 0.527],\n",
       "       [0.288, 0.887, 0.62 , 0.138],\n",
       "       [0.349, 0.297, 0.078, 0.022],\n",
       "       [0.899, 0.746, 0.174, 0.498],\n",
       "       [0.558, 0.115, 0.013, 0.007],\n",
       "       [0.482, 0.838, 0.701, 0.304],\n",
       "       [0.652, 0.605, 0.326, 0.245],\n",
       "       [0.095, 0.344, 0.035, 0.002],\n",
       "       [0.125, 0.815, 0.254, 0.023],\n",
       "       [0.576, 0.143, 0.02 , 0.012],\n",
       "       [0.067, 0.26 , 0.014, 0.001],\n",
       "       [0.286, 0.238, 0.044, 0.01 ],\n",
       "       [0.31 , 0.648, 0.347, 0.084],\n",
       "       [0.85 , 0.019, 0.   , 0.   ],\n",
       "       [0.473, 0.596, 0.353, 0.149],\n",
       "       [0.705, 0.394, 0.124, 0.114],\n",
       "       [0.99 , 0.064, 0.   , 0.004],\n",
       "       [0.594, 0.79 , 0.597, 0.369],\n",
       "       [0.909, 0.563, 0.089, 0.285],\n",
       "       [0.27 , 0.627, 0.295, 0.061],\n",
       "       [0.399, 0.306, 0.089, 0.03 ],\n",
       "       [0.847, 0.59 , 0.161, 0.301],\n",
       "       [0.32 , 0.691, 0.403, 0.101],\n",
       "       [0.445, 0.263, 0.068, 0.026],\n",
       "       [0.651, 0.896, 0.714, 0.536],\n",
       "       [0.917, 0.023, 0.   , 0.   ],\n",
       "       [0.776, 0.135, 0.012, 0.015],\n",
       "       [0.844, 0.925, 0.403, 0.738]])"
      ]
     },
     "execution_count": 67,
     "metadata": {},
     "output_type": "execute_result"
    }
   ],
   "source": [
    "train"
   ]
  },
  {
   "cell_type": "code",
   "execution_count": 70,
   "metadata": {},
   "outputs": [
    {
     "data": {
      "text/plain": [
       "Text(0, 0.5, '$y_2$')"
      ]
     },
     "execution_count": 70,
     "metadata": {},
     "output_type": "execute_result"
    },
    {
     "data": {
      "image/png": "[encoded data removed]",
      "text/plain": [
       "<Figure size 432x288 with 1 Axes>"
      ]
     },
     "metadata": {
      "needs_background": "light"
     },
     "output_type": "display_data"
    }
   ],
   "source": [
    "import matplotlib.pyplot as plt\n",
    "train = np.loadtxt(\"data_lab2/ballist.dat\")\n",
    "test = np.loadtxt(\"data_lab2/balltest.dat\")\n",
    "x_train, y_train = train[:, :2], train[:, 2:]\n",
    "x_test, y_test = test[:, :2], test[:, 2:]\n",
    "plt.plot(y_train[:,0], \"x\", color=\"r\", label=\"prediction\")\n",
    "plt.plot(y_test[:,0], \"o\", color=\"g\", label=\"real output\")\n",
    "plt.xlabel(r\"$y_1$\")\n",
    "plt.ylabel(r\"$y_2$\")"
   ]
  },
  {
   "cell_type": "code",
   "execution_count": 71,
   "metadata": {},
   "outputs": [],
   "source": [
    "y1 = y_train[:,0]"
   ]
  },
  {
   "cell_type": "code",
   "execution_count": 72,
   "metadata": {},
   "outputs": [
    {
     "data": {
      "text/plain": [
       "array([0.093, 0.566, 0.133, 0.024, 0.175, 0.159, 0.   , 0.215, 0.144,\n",
       "       0.359, 0.552, 0.017, 0.336, 0.202, 0.107, 0.011, 0.022, 0.019,\n",
       "       0.537, 0.05 , 0.186, 0.008, 0.152, 0.064, 0.001, 0.326, 0.015,\n",
       "       0.116, 0.001, 0.031, 0.003, 0.054, 0.062, 0.058, 0.126, 0.055,\n",
       "       0.061, 0.07 , 0.087, 0.489, 0.349, 0.454, 0.087, 0.253, 0.734,\n",
       "       0.11 , 0.075, 0.134, 0.03 , 0.282, 0.002, 0.444, 0.059, 0.041,\n",
       "       0.019, 0.002, 0.467, 0.037, 0.451, 0.015, 0.55 , 0.087, 0.201,\n",
       "       0.298, 0.29 , 0.324, 0.043, 0.051, 0.054, 0.033, 0.541, 0.122,\n",
       "       0.406, 0.62 , 0.078, 0.174, 0.013, 0.701, 0.326, 0.035, 0.254,\n",
       "       0.02 , 0.014, 0.044, 0.347, 0.   , 0.353, 0.124, 0.   , 0.597,\n",
       "       0.089, 0.295, 0.089, 0.161, 0.403, 0.068, 0.714, 0.   , 0.012,\n",
       "       0.403])"
      ]
     },
     "execution_count": 72,
     "metadata": {},
     "output_type": "execute_result"
    }
   ],
   "source": [
    "y1"
   ]
  },
  {
   "cell_type": "code",
   "execution_count": 73,
   "metadata": {},
   "outputs": [
    {
     "data": {
      "text/plain": [
       "[<matplotlib.lines.Line2D at 0x7fecd547ff98>]"
      ]
     },
     "execution_count": 73,
     "metadata": {},
     "output_type": "execute_result"
    },
    {
     "data": {
      "image/png": "[encoded data removed]",
      "text/plain": [
       "<Figure size 432x288 with 1 Axes>"
      ]
     },
     "metadata": {
      "needs_background": "light"
     },
     "output_type": "display_data"
    }
   ],
   "source": [
    "plt.plot(y1)"
   ]
  },
  {
   "cell_type": "code",
   "execution_count": 82,
   "metadata": {},
   "outputs": [
    {
     "data": {
      "text/plain": [
       "9"
      ]
     },
     "execution_count": 82,
     "metadata": {},
     "output_type": "execute_result"
    }
   ],
   "source": [
    "a = np.array([9,2,3])\n",
    "b = np.array([2,3,4])\n",
    "np.sum(abs(a - b))"
   ]
  },
  {
   "cell_type": "code",
   "execution_count": 83,
   "metadata": {},
   "outputs": [
    {
     "data": {
      "text/plain": [
       "9.0"
      ]
     },
     "execution_count": 83,
     "metadata": {},
     "output_type": "execute_result"
    }
   ],
   "source": [
    "np.linalg.norm(a-b, ord=1)"
   ]
  },
  {
   "cell_type": "code",
   "execution_count": 93,
   "metadata": {},
   "outputs": [],
   "source": [
    "votes = np.loadtxt(\"data_lab2/votes.dat\", comments=\"%\", delimiter=',').reshape((349, 31))\n",
    "gender = np.loadtxt(\"data_lab2/mpsex.dat\", comments=\"%\")\n",
    "district = np.loadtxt(\"data_lab2/mpdistrict.dat\", comments=\"%\")\n",
    "party = np.loadtxt(\"data_lab2/mpparty.dat\", comments=\"%\")"
   ]
  },
  {
   "cell_type": "code",
   "execution_count": 99,
   "metadata": {},
   "outputs": [
    {
     "data": {
      "text/plain": [
       "array([ 1.,  2.,  3.,  4.,  5.,  6.,  7.,  8.,  9., 10., 11., 12., 13.,\n",
       "       14., 15., 16., 17., 18., 19., 20., 21., 22., 23., 24., 25., 26.,\n",
       "       27., 28., 29.])"
      ]
     },
     "execution_count": 99,
     "metadata": {},
     "output_type": "execute_result"
    }
   ],
   "source": [
    "np.unique(district)"
   ]
  },
  {
   "cell_type": "code",
   "execution_count": 100,
   "metadata": {},
   "outputs": [
    {
     "data": {
      "text/plain": [
       "array([ 1.,  1.,  1.,  1.,  1.,  1.,  1.,  1.,  1.,  1.,  1.,  1.,  1.,\n",
       "        1.,  2.,  2.,  2.,  2.,  2.,  2.,  2.,  2.,  2.,  2.,  2.,  2.,\n",
       "        2.,  2.,  2.,  2.,  2.,  2.,  2.,  2.,  2.,  3.,  3.,  3.,  3.,\n",
       "        3.,  3.,  4.,  4.,  4.,  4.,  4.,  5.,  5.,  5.,  5.,  5.,  5.,\n",
       "        5.,  5.,  5.,  6.,  6.,  6.,  6.,  6.,  6.,  6.,  7.,  8.,  8.,\n",
       "        8.,  9.,  9., 10., 10., 11., 11., 11., 12., 12., 12., 12., 13.,\n",
       "       13., 13., 13., 13., 13., 13., 14., 14., 14., 14., 15., 15., 16.,\n",
       "       16., 16., 16., 16., 16., 16., 16., 16., 17., 17., 17., 17., 17.,\n",
       "       17., 17., 18., 18., 18., 18., 18., 18., 18., 19., 19., 19., 20.,\n",
       "       20., 20., 20., 21., 21., 21., 21., 21., 22., 22., 22., 22., 23.,\n",
       "       23., 23., 23., 23., 24., 24., 24., 25., 25., 25., 25., 26., 26.,\n",
       "       26., 26., 26., 26., 27., 27., 28., 28., 28., 28., 28., 28., 28.,\n",
       "       29., 29., 29., 29., 29., 29., 29.])"
      ]
     },
     "execution_count": 100,
     "metadata": {},
     "output_type": "execute_result"
    }
   ],
   "source": [
    "district[gender==1]"
   ]
  },
  {
   "cell_type": "code",
   "execution_count": 101,
   "metadata": {},
   "outputs": [
    {
     "data": {
      "text/plain": [
       "array([2, 5])"
      ]
     },
     "execution_count": 101,
     "metadata": {},
     "output_type": "execute_result"
    }
   ],
   "source": [
    "a  = np.array([0,1,1,0])\n",
    "b = np.array([2,3,4,5])\n",
    "b[a==0]"
   ]
  },
  {
   "cell_type": "code",
   "execution_count": null,
   "metadata": {},
   "outputs": [],
   "source": []
  }
 ],
 "metadata": {
  "kernelspec": {
   "display_name": "Python 3",
   "language": "python",
   "name": "python3"
  },
  "language_info": {
   "codemirror_mode": {
    "name": "ipython",
    "version": 3
   },
   "file_extension": ".py",
   "mimetype": "text/x-python",
   "name": "python",
   "nbconvert_exporter": "python",
   "pygments_lexer": "ipython3",
   "version": "3.6.12"
  }
 },
 "nbformat": 4,
 "nbformat_minor": 4
}
